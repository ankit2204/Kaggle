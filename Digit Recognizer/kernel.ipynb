{
 "cells": [
  {
   "cell_type": "code",
   "execution_count": 20,
   "metadata": {
    "_cell_guid": "b1076dfc-b9ad-4769-8c92-a6c4dae69d19",
    "_uuid": "8f2839f25d086af736a60e9eeb907d3b93b6e0e5"
   },
   "outputs": [],
   "source": [
    "# This Python 3 environment comes with many helpful analytics libraries installed\n",
    "# It is defined by the kaggle/python docker image: https://github.com/kaggle/docker-python\n",
    "# For example, here's several helpful packages to load in \n",
    "\n",
    "import numpy as np # linear algebra\n",
    "import pandas as pd # data processing, CSV file I/O (e.g. pd.read_csv)\n"
   ]
  },
  {
   "cell_type": "code",
   "execution_count": 21,
   "metadata": {
    "_cell_guid": "79c7e3d0-c299-4dcb-8224-4455121ee9b0",
    "_uuid": "d629ff2d2480ee46fbb7e2d37f6b5fab8052498a"
   },
   "outputs": [],
   "source": [
    "train_df = pd.read_csv(\"train.csv\")"
   ]
  },
  {
   "cell_type": "code",
   "execution_count": 22,
   "metadata": {
    "_uuid": "e8237431860bcbc768d5c3f6f471e56141e71742"
   },
   "outputs": [
    {
     "data": {
      "text/plain": [
       "(42000, 785)"
      ]
     },
     "execution_count": 22,
     "metadata": {},
     "output_type": "execute_result"
    }
   ],
   "source": [
    "train_df.shape"
   ]
  },
  {
   "cell_type": "code",
   "execution_count": 23,
   "metadata": {
    "_uuid": "0f5c7990fdec22d37503f1f51f4752f24631ccf6"
   },
   "outputs": [
    {
     "data": {
      "text/html": [
       "<div>\n",
       "<style scoped>\n",
       "    .dataframe tbody tr th:only-of-type {\n",
       "        vertical-align: middle;\n",
       "    }\n",
       "\n",
       "    .dataframe tbody tr th {\n",
       "        vertical-align: top;\n",
       "    }\n",
       "\n",
       "    .dataframe thead th {\n",
       "        text-align: right;\n",
       "    }\n",
       "</style>\n",
       "<table border=\"1\" class=\"dataframe\">\n",
       "  <thead>\n",
       "    <tr style=\"text-align: right;\">\n",
       "      <th></th>\n",
       "      <th>label</th>\n",
       "      <th>pixel0</th>\n",
       "      <th>pixel1</th>\n",
       "      <th>pixel2</th>\n",
       "      <th>pixel3</th>\n",
       "      <th>pixel4</th>\n",
       "      <th>pixel5</th>\n",
       "      <th>pixel6</th>\n",
       "      <th>pixel7</th>\n",
       "      <th>pixel8</th>\n",
       "      <th>...</th>\n",
       "      <th>pixel774</th>\n",
       "      <th>pixel775</th>\n",
       "      <th>pixel776</th>\n",
       "      <th>pixel777</th>\n",
       "      <th>pixel778</th>\n",
       "      <th>pixel779</th>\n",
       "      <th>pixel780</th>\n",
       "      <th>pixel781</th>\n",
       "      <th>pixel782</th>\n",
       "      <th>pixel783</th>\n",
       "    </tr>\n",
       "  </thead>\n",
       "  <tbody>\n",
       "    <tr>\n",
       "      <th>0</th>\n",
       "      <td>1</td>\n",
       "      <td>0</td>\n",
       "      <td>0</td>\n",
       "      <td>0</td>\n",
       "      <td>0</td>\n",
       "      <td>0</td>\n",
       "      <td>0</td>\n",
       "      <td>0</td>\n",
       "      <td>0</td>\n",
       "      <td>0</td>\n",
       "      <td>...</td>\n",
       "      <td>0</td>\n",
       "      <td>0</td>\n",
       "      <td>0</td>\n",
       "      <td>0</td>\n",
       "      <td>0</td>\n",
       "      <td>0</td>\n",
       "      <td>0</td>\n",
       "      <td>0</td>\n",
       "      <td>0</td>\n",
       "      <td>0</td>\n",
       "    </tr>\n",
       "    <tr>\n",
       "      <th>1</th>\n",
       "      <td>0</td>\n",
       "      <td>0</td>\n",
       "      <td>0</td>\n",
       "      <td>0</td>\n",
       "      <td>0</td>\n",
       "      <td>0</td>\n",
       "      <td>0</td>\n",
       "      <td>0</td>\n",
       "      <td>0</td>\n",
       "      <td>0</td>\n",
       "      <td>...</td>\n",
       "      <td>0</td>\n",
       "      <td>0</td>\n",
       "      <td>0</td>\n",
       "      <td>0</td>\n",
       "      <td>0</td>\n",
       "      <td>0</td>\n",
       "      <td>0</td>\n",
       "      <td>0</td>\n",
       "      <td>0</td>\n",
       "      <td>0</td>\n",
       "    </tr>\n",
       "    <tr>\n",
       "      <th>2</th>\n",
       "      <td>1</td>\n",
       "      <td>0</td>\n",
       "      <td>0</td>\n",
       "      <td>0</td>\n",
       "      <td>0</td>\n",
       "      <td>0</td>\n",
       "      <td>0</td>\n",
       "      <td>0</td>\n",
       "      <td>0</td>\n",
       "      <td>0</td>\n",
       "      <td>...</td>\n",
       "      <td>0</td>\n",
       "      <td>0</td>\n",
       "      <td>0</td>\n",
       "      <td>0</td>\n",
       "      <td>0</td>\n",
       "      <td>0</td>\n",
       "      <td>0</td>\n",
       "      <td>0</td>\n",
       "      <td>0</td>\n",
       "      <td>0</td>\n",
       "    </tr>\n",
       "    <tr>\n",
       "      <th>3</th>\n",
       "      <td>4</td>\n",
       "      <td>0</td>\n",
       "      <td>0</td>\n",
       "      <td>0</td>\n",
       "      <td>0</td>\n",
       "      <td>0</td>\n",
       "      <td>0</td>\n",
       "      <td>0</td>\n",
       "      <td>0</td>\n",
       "      <td>0</td>\n",
       "      <td>...</td>\n",
       "      <td>0</td>\n",
       "      <td>0</td>\n",
       "      <td>0</td>\n",
       "      <td>0</td>\n",
       "      <td>0</td>\n",
       "      <td>0</td>\n",
       "      <td>0</td>\n",
       "      <td>0</td>\n",
       "      <td>0</td>\n",
       "      <td>0</td>\n",
       "    </tr>\n",
       "    <tr>\n",
       "      <th>4</th>\n",
       "      <td>0</td>\n",
       "      <td>0</td>\n",
       "      <td>0</td>\n",
       "      <td>0</td>\n",
       "      <td>0</td>\n",
       "      <td>0</td>\n",
       "      <td>0</td>\n",
       "      <td>0</td>\n",
       "      <td>0</td>\n",
       "      <td>0</td>\n",
       "      <td>...</td>\n",
       "      <td>0</td>\n",
       "      <td>0</td>\n",
       "      <td>0</td>\n",
       "      <td>0</td>\n",
       "      <td>0</td>\n",
       "      <td>0</td>\n",
       "      <td>0</td>\n",
       "      <td>0</td>\n",
       "      <td>0</td>\n",
       "      <td>0</td>\n",
       "    </tr>\n",
       "  </tbody>\n",
       "</table>\n",
       "<p>5 rows × 785 columns</p>\n",
       "</div>"
      ],
      "text/plain": [
       "   label  pixel0  pixel1  pixel2  pixel3  pixel4  pixel5  pixel6  pixel7  \\\n",
       "0      1       0       0       0       0       0       0       0       0   \n",
       "1      0       0       0       0       0       0       0       0       0   \n",
       "2      1       0       0       0       0       0       0       0       0   \n",
       "3      4       0       0       0       0       0       0       0       0   \n",
       "4      0       0       0       0       0       0       0       0       0   \n",
       "\n",
       "   pixel8    ...     pixel774  pixel775  pixel776  pixel777  pixel778  \\\n",
       "0       0    ...            0         0         0         0         0   \n",
       "1       0    ...            0         0         0         0         0   \n",
       "2       0    ...            0         0         0         0         0   \n",
       "3       0    ...            0         0         0         0         0   \n",
       "4       0    ...            0         0         0         0         0   \n",
       "\n",
       "   pixel779  pixel780  pixel781  pixel782  pixel783  \n",
       "0         0         0         0         0         0  \n",
       "1         0         0         0         0         0  \n",
       "2         0         0         0         0         0  \n",
       "3         0         0         0         0         0  \n",
       "4         0         0         0         0         0  \n",
       "\n",
       "[5 rows x 785 columns]"
      ]
     },
     "execution_count": 23,
     "metadata": {},
     "output_type": "execute_result"
    }
   ],
   "source": [
    "train_df.head()"
   ]
  },
  {
   "cell_type": "code",
   "execution_count": 24,
   "metadata": {
    "_uuid": "dfa70d042b977202b5f37f7e62a8ca29c12768d1"
   },
   "outputs": [],
   "source": [
    "y_train = train_df['label'].values"
   ]
  },
  {
   "cell_type": "code",
   "execution_count": 25,
   "metadata": {
    "_uuid": "3c8705b8ace16767b006aa4fb7fbfeb300ce93a4"
   },
   "outputs": [
    {
     "data": {
      "text/plain": [
       "array([1, 0, 1, ..., 7, 6, 9])"
      ]
     },
     "execution_count": 25,
     "metadata": {},
     "output_type": "execute_result"
    }
   ],
   "source": [
    "y_train"
   ]
  },
  {
   "cell_type": "code",
   "execution_count": 26,
   "metadata": {
    "_uuid": "b692a1b4852ef56a701d7c5b5bac463f6c678385"
   },
   "outputs": [],
   "source": [
    "x_train = train_df.loc[:,'pixel0':].values"
   ]
  },
  {
   "cell_type": "code",
   "execution_count": 27,
   "metadata": {
    "_uuid": "80d4f86773637151dc0195ea0661e19f7905273f"
   },
   "outputs": [
    {
     "data": {
      "text/plain": [
       "255"
      ]
     },
     "execution_count": 27,
     "metadata": {},
     "output_type": "execute_result"
    }
   ],
   "source": [
    "np.max(x_train)"
   ]
  },
  {
   "cell_type": "code",
   "execution_count": 28,
   "metadata": {
    "_uuid": "5187d3a0c8d0f8e3b0967e11ec67cf335e0aba1d"
   },
   "outputs": [
    {
     "data": {
      "text/plain": [
       "0"
      ]
     },
     "execution_count": 28,
     "metadata": {},
     "output_type": "execute_result"
    }
   ],
   "source": [
    "np.min(x_train)"
   ]
  },
  {
   "cell_type": "code",
   "execution_count": 29,
   "metadata": {
    "_uuid": "c1b13aea347711122cef7870c8d4a817728af583"
   },
   "outputs": [],
   "source": [
    "x_train = x_train.astype('float32')/255"
   ]
  },
  {
   "cell_type": "code",
   "execution_count": 31,
   "metadata": {
    "_uuid": "ba780b2f2ddf12c35bbd1634dfe902b730b99735"
   },
   "outputs": [
    {
     "name": "stdout",
     "output_type": "stream",
     "text": [
      "6300\n",
      "(42000, 784)\n",
      "(6300,)\n"
     ]
    }
   ],
   "source": [
    "validation_split = 0.15\n",
    "validation_size = int(x_train.shape[0]*validation_split)\n",
    "train_size = int(x_train.shape[0] - validation_size)\n",
    "print(validation_size)\n",
    "\n",
    "x_train_new,y_train_new = x_train[:train_size],y_train[:train_size]\n",
    "print(x_train.shape)\n",
    "x_valid,y_valid = x_train[train_size:],y_train[train_size:]\n",
    "print(y_valid.shape)"
   ]
  },
  {
   "cell_type": "code",
   "execution_count": 144,
   "metadata": {
    "_uuid": "49e67f6a9c9bd26132b633bf31c31e8e0611b06f"
   },
   "outputs": [],
   "source": [
    "import keras\n",
    "from keras.layers import Activation, Dense\n",
    "from keras.utils.np_utils import to_categorical\n",
    "from keras import regularizers"
   ]
  },
  {
   "cell_type": "code",
   "execution_count": 33,
   "metadata": {
    "_uuid": "c4aa1040d06a0ad344e330947e524ca186bbc4a7"
   },
   "outputs": [
    {
     "name": "stdout",
     "output_type": "stream",
     "text": [
      "(35700,)\n"
     ]
    },
    {
     "data": {
      "text/plain": [
       "array([0., 0., 1., 0., 0., 0., 0., 0., 0., 0.], dtype=float32)"
      ]
     },
     "execution_count": 33,
     "metadata": {},
     "output_type": "execute_result"
    }
   ],
   "source": [
    "y_train_cat = to_categorical(y_train_new,10)\n",
    "print(y_train_new.shape)\n",
    "y_valid_cat = to_categorical(y_valid,10)\n",
    "y_valid_cat[0]"
   ]
  },
  {
   "cell_type": "code",
   "execution_count": 34,
   "metadata": {
    "_uuid": "238959d151908f3b454be014e77e31776aee2f72"
   },
   "outputs": [
    {
     "name": "stdout",
     "output_type": "stream",
     "text": [
      "_________________________________________________________________\n",
      "Layer (type)                 Output Shape              Param #   \n",
      "=================================================================\n",
      "dense_2 (Dense)              (None, 10)                7850      \n",
      "=================================================================\n",
      "Total params: 7,850\n",
      "Trainable params: 7,850\n",
      "Non-trainable params: 0\n",
      "_________________________________________________________________\n"
     ]
    }
   ],
   "source": [
    "model = keras.Sequential()\n",
    "model.add(Dense(10,activation='softmax',input_shape=(784,)))\n",
    "model.summary()"
   ]
  },
  {
   "cell_type": "code",
   "execution_count": 35,
   "metadata": {
    "_uuid": "5b6893a3bc3525903c23256e2644c0bf8d80ebc2"
   },
   "outputs": [],
   "source": [
    "model.compile(loss='categorical_crossentropy',optimizer='adam',metrics=['acc'])"
   ]
  },
  {
   "cell_type": "code",
   "execution_count": 36,
   "metadata": {
    "_uuid": "0de6c7ef2c1ca712131bfa9e18a606e223da01bc",
    "scrolled": true
   },
   "outputs": [
    {
     "name": "stdout",
     "output_type": "stream",
     "text": [
      "Train on 35700 samples, validate on 6300 samples\n",
      "Epoch 1/10\n",
      "35700/35700 [==============================] - 1s 40us/step - loss: 0.5627 - acc: 0.8539 - val_loss: 0.3524 - val_acc: 0.9022\n",
      "Epoch 2/10\n",
      "35700/35700 [==============================] - 1s 39us/step - loss: 0.3260 - acc: 0.9088 - val_loss: 0.3071 - val_acc: 0.9162\n",
      "Epoch 3/10\n",
      "35700/35700 [==============================] - 1s 41us/step - loss: 0.2951 - acc: 0.9168 - val_loss: 0.2877 - val_acc: 0.9202\n",
      "Epoch 4/10\n",
      "35700/35700 [==============================] - 2s 44us/step - loss: 0.2790 - acc: 0.9214 - val_loss: 0.2785 - val_acc: 0.9206\n",
      "Epoch 5/10\n",
      "35700/35700 [==============================] - 2s 43us/step - loss: 0.2691 - acc: 0.9242 - val_loss: 0.2725 - val_acc: 0.9219\n",
      "Epoch 6/10\n",
      "35700/35700 [==============================] - 1s 42us/step - loss: 0.2619 - acc: 0.9252 - val_loss: 0.2706 - val_acc: 0.9230\n",
      "Epoch 7/10\n",
      "35700/35700 [==============================] - 2s 45us/step - loss: 0.2564 - acc: 0.9268 - val_loss: 0.2727 - val_acc: 0.9260\n",
      "Epoch 8/10\n",
      "35700/35700 [==============================] - 2s 49us/step - loss: 0.2518 - acc: 0.9283 - val_loss: 0.2681 - val_acc: 0.9267\n",
      "Epoch 9/10\n",
      "35700/35700 [==============================] - 2s 45us/step - loss: 0.2485 - acc: 0.9294 - val_loss: 0.2711 - val_acc: 0.9260\n",
      "Epoch 10/10\n",
      "35700/35700 [==============================] - 2s 52us/step - loss: 0.2452 - acc: 0.9304 - val_loss: 0.2660 - val_acc: 0.9251\n"
     ]
    },
    {
     "data": {
      "text/plain": [
       "<keras.callbacks.History at 0x10cd9c990>"
      ]
     },
     "execution_count": 36,
     "metadata": {},
     "output_type": "execute_result"
    }
   ],
   "source": [
    "model.fit(x_train_new,y_train_cat,epochs=10,batch_size=32,validation_data=(x_valid, y_valid_cat))"
   ]
  },
  {
   "cell_type": "code",
   "execution_count": 87,
   "metadata": {},
   "outputs": [],
   "source": [
    "def predict_test(model,file_name):\n",
    "    test_df = pd.read_csv(\"test.csv\")\n",
    "    x_test = test_df.values\n",
    "    x_test = x_test.astype('float32')/255\n",
    "    y_test = model.predict_classes(x_test)\n",
    "    \n",
    "    df = pd.DataFrame(y_test)\n",
    "    df.index = df.index+1\n",
    "    df['ImageId'] = df.index\n",
    "    df.columns = ['Label','ImageId']\n",
    "    df = df[['ImageId','Label']]\n",
    "    \n",
    "    df.to_excel(file_name)"
   ]
  },
  {
   "cell_type": "markdown",
   "metadata": {},
   "source": [
    "# Fully connected one hidden layer network"
   ]
  },
  {
   "cell_type": "code",
   "execution_count": 81,
   "metadata": {},
   "outputs": [],
   "source": [
    "model_nn = keras.Sequential()"
   ]
  },
  {
   "cell_type": "code",
   "execution_count": 82,
   "metadata": {},
   "outputs": [
    {
     "name": "stdout",
     "output_type": "stream",
     "text": [
      "_________________________________________________________________\n",
      "Layer (type)                 Output Shape              Param #   \n",
      "=================================================================\n",
      "dense_9 (Dense)              (None, 64)                50240     \n",
      "_________________________________________________________________\n",
      "dense_10 (Dense)             (None, 10)                650       \n",
      "=================================================================\n",
      "Total params: 50,890\n",
      "Trainable params: 50,890\n",
      "Non-trainable params: 0\n",
      "_________________________________________________________________\n"
     ]
    }
   ],
   "source": [
    "model_nn.add(Dense(64,activation='relu',input_shape = (784,)))\n",
    "model_nn.add(Dense(10,activation='softmax'))\n",
    "model_nn.summary()"
   ]
  },
  {
   "cell_type": "code",
   "execution_count": 83,
   "metadata": {},
   "outputs": [],
   "source": [
    "model_nn.compile(loss='categorical_crossentropy',optimizer='adam',metrics=['accuracy'])"
   ]
  },
  {
   "cell_type": "code",
   "execution_count": 85,
   "metadata": {},
   "outputs": [
    {
     "name": "stdout",
     "output_type": "stream",
     "text": [
      "Train on 35700 samples, validate on 6300 samples\n",
      "Epoch 1/10\n",
      "35700/35700 [==============================] - 2s 56us/step - loss: 0.3820 - acc: 0.8905 - val_loss: 0.2228 - val_acc: 0.9349\n",
      "Epoch 2/10\n",
      "35700/35700 [==============================] - 2s 60us/step - loss: 0.1859 - acc: 0.9462 - val_loss: 0.1648 - val_acc: 0.9492\n",
      "Epoch 3/10\n",
      "35700/35700 [==============================] - 2s 62us/step - loss: 0.1345 - acc: 0.9608 - val_loss: 0.1375 - val_acc: 0.9581\n",
      "Epoch 4/10\n",
      "35700/35700 [==============================] - 2s 68us/step - loss: 0.1044 - acc: 0.9692 - val_loss: 0.1178 - val_acc: 0.9651\n",
      "Epoch 5/10\n",
      "35700/35700 [==============================] - 2s 65us/step - loss: 0.0836 - acc: 0.9757 - val_loss: 0.1182 - val_acc: 0.9622\n",
      "Epoch 6/10\n",
      "35700/35700 [==============================] - 2s 64us/step - loss: 0.0691 - acc: 0.9792 - val_loss: 0.1103 - val_acc: 0.9644\n",
      "Epoch 7/10\n",
      "35700/35700 [==============================] - 2s 69us/step - loss: 0.0574 - acc: 0.9827 - val_loss: 0.1052 - val_acc: 0.9683\n",
      "Epoch 8/10\n",
      "35700/35700 [==============================] - 2s 64us/step - loss: 0.0477 - acc: 0.9854 - val_loss: 0.1042 - val_acc: 0.9681\n",
      "Epoch 9/10\n",
      "35700/35700 [==============================] - 3s 70us/step - loss: 0.0422 - acc: 0.9873 - val_loss: 0.1145 - val_acc: 0.9671\n",
      "Epoch 10/10\n",
      "35700/35700 [==============================] - 2s 69us/step - loss: 0.0336 - acc: 0.9903 - val_loss: 0.1047 - val_acc: 0.9703\n"
     ]
    },
    {
     "data": {
      "text/plain": [
       "<keras.callbacks.History at 0x10d9ea1d0>"
      ]
     },
     "execution_count": 85,
     "metadata": {},
     "output_type": "execute_result"
    }
   ],
   "source": [
    "model_nn.fit(x_train_new,y_train_cat,epochs=10,batch_size=32,validation_data=(x_valid,y_valid_cat))"
   ]
  },
  {
   "cell_type": "code",
   "execution_count": 88,
   "metadata": {},
   "outputs": [],
   "source": [
    "predict_test(model_nn,\"result_nn.xlsx\")"
   ]
  },
  {
   "cell_type": "markdown",
   "metadata": {},
   "source": [
    "### accuracy = 0.966"
   ]
  },
  {
   "cell_type": "markdown",
   "metadata": {},
   "source": [
    "## Deeper fully connected network"
   ]
  },
  {
   "cell_type": "code",
   "execution_count": 189,
   "metadata": {},
   "outputs": [],
   "source": [
    "model_nnn = keras.Sequential()"
   ]
  },
  {
   "cell_type": "code",
   "execution_count": 190,
   "metadata": {},
   "outputs": [],
   "source": [
    "model_nnn.add(Dense(100,activation = 'relu',input_shape=(784,)))"
   ]
  },
  {
   "cell_type": "code",
   "execution_count": 191,
   "metadata": {},
   "outputs": [],
   "source": [
    "model_nnn.add(Dense(64,activation = 'relu',activity_regularizer=regularizers.l2(0.01)))"
   ]
  },
  {
   "cell_type": "code",
   "execution_count": 192,
   "metadata": {},
   "outputs": [],
   "source": [
    "model_nnn.add(Dense(32,activation = 'relu',activity_regularizer=regularizers.l2(0.01)))"
   ]
  },
  {
   "cell_type": "code",
   "execution_count": 193,
   "metadata": {},
   "outputs": [],
   "source": [
    "model_nnn.add(Dense(10,activation = 'softmax'))"
   ]
  },
  {
   "cell_type": "code",
   "execution_count": 194,
   "metadata": {},
   "outputs": [
    {
     "name": "stdout",
     "output_type": "stream",
     "text": [
      "_________________________________________________________________\n",
      "Layer (type)                 Output Shape              Param #   \n",
      "=================================================================\n",
      "dense_57 (Dense)             (None, 100)               78500     \n",
      "_________________________________________________________________\n",
      "dense_58 (Dense)             (None, 64)                6464      \n",
      "_________________________________________________________________\n",
      "dense_59 (Dense)             (None, 32)                2080      \n",
      "_________________________________________________________________\n",
      "dense_60 (Dense)             (None, 10)                330       \n",
      "=================================================================\n",
      "Total params: 87,374\n",
      "Trainable params: 87,374\n",
      "Non-trainable params: 0\n",
      "_________________________________________________________________\n"
     ]
    }
   ],
   "source": [
    "model_nnn.summary()"
   ]
  },
  {
   "cell_type": "code",
   "execution_count": 195,
   "metadata": {},
   "outputs": [],
   "source": [
    "model_nnn.compile(loss='categorical_crossentropy',optimizer='adam',metrics=['accuracy'])"
   ]
  },
  {
   "cell_type": "code",
   "execution_count": 196,
   "metadata": {},
   "outputs": [
    {
     "name": "stdout",
     "output_type": "stream",
     "text": [
      "Train on 35700 samples, validate on 6300 samples\n",
      "Epoch 1/20\n",
      "35700/35700 [==============================] - 3s 97us/step - loss: 1.3665 - acc: 0.7898 - val_loss: 0.7183 - val_acc: 0.9441\n",
      "Epoch 2/20\n",
      "35700/35700 [==============================] - 5s 135us/step - loss: 0.5722 - acc: 0.9527 - val_loss: 0.5085 - val_acc: 0.9475\n",
      "Epoch 3/20\n",
      "35700/35700 [==============================] - 5s 148us/step - loss: 0.4051 - acc: 0.9629 - val_loss: 0.4049 - val_acc: 0.9522\n",
      "Epoch 4/20\n",
      "35700/35700 [==============================] - 5s 151us/step - loss: 0.3232 - acc: 0.9674 - val_loss: 0.3461 - val_acc: 0.9554\n",
      "Epoch 5/20\n",
      "35700/35700 [==============================] - 7s 183us/step - loss: 0.2700 - acc: 0.9718 - val_loss: 0.3122 - val_acc: 0.9556\n",
      "Epoch 6/20\n",
      "35700/35700 [==============================] - 6s 168us/step - loss: 0.2369 - acc: 0.9742 - val_loss: 0.2766 - val_acc: 0.9594\n",
      "Epoch 7/20\n",
      "35700/35700 [==============================] - 6s 174us/step - loss: 0.2106 - acc: 0.9758 - val_loss: 0.2603 - val_acc: 0.9595\n",
      "Epoch 8/20\n",
      "35700/35700 [==============================] - 6s 163us/step - loss: 0.1865 - acc: 0.9789 - val_loss: 0.2506 - val_acc: 0.9579\n",
      "Epoch 9/20\n",
      "35700/35700 [==============================] - 5s 139us/step - loss: 0.1757 - acc: 0.9784 - val_loss: 0.2502 - val_acc: 0.9557\n",
      "Epoch 10/20\n",
      "35700/35700 [==============================] - 5s 134us/step - loss: 0.1638 - acc: 0.9802 - val_loss: 0.2385 - val_acc: 0.9586\n",
      "Epoch 11/20\n",
      "35700/35700 [==============================] - 5s 137us/step - loss: 0.1550 - acc: 0.9800 - val_loss: 0.2412 - val_acc: 0.9573\n",
      "Epoch 12/20\n",
      "35700/35700 [==============================] - 5s 138us/step - loss: 0.1449 - acc: 0.9817 - val_loss: 0.2281 - val_acc: 0.9578\n",
      "Epoch 13/20\n",
      "35700/35700 [==============================] - 5s 147us/step - loss: 0.1382 - acc: 0.9831 - val_loss: 0.2385 - val_acc: 0.9543\n",
      "Epoch 14/20\n",
      "35700/35700 [==============================] - 7s 203us/step - loss: 0.1353 - acc: 0.9824 - val_loss: 0.2145 - val_acc: 0.9616\n",
      "Epoch 15/20\n",
      "35700/35700 [==============================] - 7s 186us/step - loss: 0.1274 - acc: 0.9837 - val_loss: 0.2365 - val_acc: 0.9563\n",
      "Epoch 16/20\n",
      "35700/35700 [==============================] - 7s 195us/step - loss: 0.1239 - acc: 0.9834 - val_loss: 0.2474 - val_acc: 0.9522\n",
      "Epoch 17/20\n",
      "35700/35700 [==============================] - 8s 223us/step - loss: 0.1230 - acc: 0.9835 - val_loss: 0.2113 - val_acc: 0.9613\n",
      "Epoch 18/20\n",
      "35700/35700 [==============================] - 7s 193us/step - loss: 0.1153 - acc: 0.9854 - val_loss: 0.2092 - val_acc: 0.9587\n",
      "Epoch 19/20\n",
      "35700/35700 [==============================] - 6s 159us/step - loss: 0.1083 - acc: 0.9861 - val_loss: 0.2083 - val_acc: 0.9605\n",
      "Epoch 20/20\n",
      "35700/35700 [==============================] - 6s 168us/step - loss: 0.1126 - acc: 0.9843 - val_loss: 0.2163 - val_acc: 0.9570\n"
     ]
    },
    {
     "data": {
      "text/plain": [
       "<keras.callbacks.History at 0x1158b8a10>"
      ]
     },
     "execution_count": 196,
     "metadata": {},
     "output_type": "execute_result"
    }
   ],
   "source": [
    "model_nnn.fit(x_train_new,y_train_cat,epochs=20,batch_size=32,validation_data=(x_valid,y_valid_cat))"
   ]
  },
  {
   "cell_type": "code",
   "execution_count": null,
   "metadata": {},
   "outputs": [],
   "source": []
  }
 ],
 "metadata": {
  "kernelspec": {
   "display_name": "Python 2",
   "language": "python",
   "name": "python2"
  },
  "language_info": {
   "codemirror_mode": {
    "name": "ipython",
    "version": 2
   },
   "file_extension": ".py",
   "mimetype": "text/x-python",
   "name": "python",
   "nbconvert_exporter": "python",
   "pygments_lexer": "ipython2",
   "version": "2.7.10"
  }
 },
 "nbformat": 4,
 "nbformat_minor": 1
}
